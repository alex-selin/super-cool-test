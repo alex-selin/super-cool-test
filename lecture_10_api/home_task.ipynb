{
 "cells": [
  {
   "cell_type": "code",
   "execution_count": 11,
   "metadata": {},
   "outputs": [],
   "source": [
    "import os \n",
    "import requests\n",
    "from dotenv import load_dotenv"
   ]
  },
  {
   "cell_type": "code",
   "execution_count": 12,
   "metadata": {},
   "outputs": [
    {
     "data": {
      "text/plain": [
       "{'status_code': 200, 'message': 'API is online'}"
      ]
     },
     "execution_count": 12,
     "metadata": {},
     "output_type": "execute_result"
    }
   ],
   "source": [
    "url = f'https://smysl.io/health'\n",
    "\n",
    "res = requests.get(url)\n",
    "res.json()"
   ]
  },
  {
   "cell_type": "code",
   "execution_count": 13,
   "metadata": {},
   "outputs": [
    {
     "data": {
      "text/plain": [
       "{'id': 1,\n",
       " 'description': 'Отлично! Теперь попробуйте открыть следующее задание!',\n",
       " 'is_public': True}"
      ]
     },
     "execution_count": 13,
     "metadata": {},
     "output_type": "execute_result"
    }
   ],
   "source": [
    "task_id = '1'\n",
    "url_t = f'https://smysl.io/tasks/{task_id}'\n",
    "res = requests.get(url_t)\n",
    "res.json()"
   ]
  },
  {
   "cell_type": "code",
   "execution_count": 17,
   "metadata": {},
   "outputs": [
    {
     "data": {
      "text/plain": [
       "{'api_token': '80843324d4564563',\n",
       " 'expires_at': '2023-12-11T14:40:31.913935+00:00'}"
      ]
     },
     "execution_count": 17,
     "metadata": {},
     "output_type": "execute_result"
    }
   ],
   "source": [
    "url = 'https://smysl.io/get_token'\n",
    "email = 'foo@bar.com'\n",
    "\n",
    "\n",
    "params = {\n",
    "    'email': email,\n",
    "}\n",
    "\n",
    "res = requests.post(url, json=params)\n",
    "res.json()"
   ]
  },
  {
   "cell_type": "code",
   "execution_count": 18,
   "metadata": {},
   "outputs": [
    {
     "data": {
      "text/plain": [
       "{'id': 2, 'description': 'Ура! У вас получилось!', 'is_public': False}"
      ]
     },
     "execution_count": 18,
     "metadata": {},
     "output_type": "execute_result"
    }
   ],
   "source": [
    "load_dotenv()\n",
    "task_id = '2'\n",
    "secret_token = os.getenv('smysl_token')\n",
    "\n",
    "headers = {\n",
    "    'Authorization': secret_token,\n",
    "}\n",
    "\n",
    "\n",
    "url_t = f'https://smysl.io/tasks/{task_id}'\n",
    "res = requests.get(url_t, headers=headers)\n",
    "res.json()"
   ]
  }
 ],
 "metadata": {
  "kernelspec": {
   "display_name": "venv",
   "language": "python",
   "name": "python3"
  },
  "language_info": {
   "codemirror_mode": {
    "name": "ipython",
    "version": 3
   },
   "file_extension": ".py",
   "mimetype": "text/x-python",
   "name": "python",
   "nbconvert_exporter": "python",
   "pygments_lexer": "ipython3",
   "version": "3.11.4"
  }
 },
 "nbformat": 4,
 "nbformat_minor": 2
}
